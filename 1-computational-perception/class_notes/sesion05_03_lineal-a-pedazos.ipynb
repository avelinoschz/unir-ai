{
 "cells": [
  {
   "cell_type": "code",
   "execution_count": 11,
   "id": "cffe2f22",
   "metadata": {},
   "outputs": [
    {
     "data": {
      "image/png": "[encoded data removed]",
      "text/plain": [
       "<Figure size 576x360 with 1 Axes>"
      ]
     },
     "metadata": {
      "needs_background": "light"
     },
     "output_type": "display_data"
    }
   ],
   "source": [
    "import cv2\n",
    "import numpy as np\n",
    "import matplotlib.pyplot as plt\n",
    "\n",
    "\n",
    "breakpoints = [0,60, 150, 255]\n",
    "#slopes=[0.7,1.7,1]\n",
    "#breakpoints = [0, 85, 130, 255]\n",
    "slopes = [breakpoints[1]-breakpoints[0]/85,breakpoints[2]-breakpoints[1]/85,breakpoints[3]-breakpoints[2]/85 ]\n",
    "fig, ax = plt.subplots(figsize=(8, 5))\n",
    "\n",
    "# Graficar los puntos de quiebre\n",
    "ax.plot(breakpoints, np.linspace(0, 255, len(breakpoints)), 'ro-', markersize=8, label='Breakpoints')\n",
    "ax.legend()\n",
    "\n",
    "# Mostrar la gráfica\n",
    "plt.show()"
   ]
  },
  {
   "cell_type": "code",
   "execution_count": 12,
   "id": "354e48cb",
   "metadata": {},
   "outputs": [
    {
     "data": {
      "text/plain": [
       "array([  0.,  85., 170., 255.])"
      ]
     },
     "execution_count": 12,
     "metadata": {},
     "output_type": "execute_result"
    }
   ],
   "source": [
    "np.linspace(0, 255, len(breakpoints))"
   ]
  },
  {
   "cell_type": "code",
   "execution_count": 13,
   "id": "90c885e3",
   "metadata": {},
   "outputs": [],
   "source": [
    "import cv2\n",
    "import numpy as np\n",
    "\n",
    "def piecewise_linear(img, breakpoints, slopes):\n",
    "    result_image = np.zeros_like(img, dtype=np.float64)\n",
    "\n",
    "    for i in range(len(breakpoints) - 1):\n",
    "        # Crear máscara booleana para el rango actual\n",
    "        mask = (img >= breakpoints[i]) & (img < breakpoints[i + 1])\n",
    "\n",
    "        # Aplicar la función lineal a pedazos solo en la región definida por la máscara\n",
    "        result_image[mask] = slopes[i] * img[mask]\n",
    "\n",
    "    # Normalizar antes de convertir a uint8\n",
    "    result_image_normalized = (result_image - np.min(result_image)) / (np.max(result_image) - np.min(result_image)) * 255.0\n",
    "\n",
    "    # Asegúrate de que el rango de intensidad sea [0, 255]\n",
    "    result_image = np.clip(result_image_normalized, 0, 255).astype(np.uint8)\n",
    "    return result_image"
   ]
  },
  {
   "cell_type": "code",
   "execution_count": 14,
   "id": "a0fa9131",
   "metadata": {},
   "outputs": [],
   "source": [
    "image = cv2.imread('flowers.jpeg', cv2.IMREAD_GRAYSCALE)\n",
    "\n",
    "# Definir los puntos de quiebre y pendientes\n",
    "breakpoints = [0, 85, 130, 255]\n",
    "slopes = [breakpoints[1]-breakpoints[0]/85,breakpoints[2]-breakpoints[1]/85,breakpoints[3]-breakpoints[2]/85 ]\n",
    "\n",
    "# Aplicar la función lineal a pedazos para mejorar la imagen\n",
    "enhanced_image = piecewise_linear(image, breakpoints, slopes)\n",
    "\n",
    "# Mostrar la imagen original y la imagen mejorada\n",
    "cv2.imshow('Original Image', image)\n",
    "cv2.imshow('Enhanced Image', enhanced_image)\n",
    "cv2.waitKey(0)\n",
    "cv2.destroyAllWindows()"
   ]
  },
  {
   "cell_type": "code",
   "execution_count": null,
   "id": "4a7bf241",
   "metadata": {},
   "outputs": [],
   "source": [
    "cv2.destroyAllWindows()"
   ]
  },
  {
   "cell_type": "code",
   "execution_count": 11,
   "id": "e63817eb",
   "metadata": {},
   "outputs": [
    {
     "data": {
      "text/plain": [
       "[1, 1, 1]"
      ]
     },
     "execution_count": 11,
     "metadata": {},
     "output_type": "execute_result"
    }
   ],
   "source": []
  },
  {
   "cell_type": "code",
   "execution_count": null,
   "id": "e0662b7e",
   "metadata": {},
   "outputs": [],
   "source": []
  }
 ],
 "metadata": {
  "kernelspec": {
   "display_name": "Python 3 (ipykernel)",
   "language": "python",
   "name": "python3"
  },
  "language_info": {
   "codemirror_mode": {
    "name": "ipython",
    "version": 3
   },
   "file_extension": ".py",
   "mimetype": "text/x-python",
   "name": "python",
   "nbconvert_exporter": "python",
   "pygments_lexer": "ipython3",
   "version": "3.10.4"
  }
 },
 "nbformat": 4,
 "nbformat_minor": 5
}
